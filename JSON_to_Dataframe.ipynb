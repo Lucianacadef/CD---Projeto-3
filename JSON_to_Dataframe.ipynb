{
 "cells": [
  {
   "cell_type": "markdown",
   "metadata": {},
   "source": [
    "# Projeto 3 - Ciência dos Dados - Engenharia_2A - \n",
    "## Ester Quintino, Luciana de Freitas e Pedro Dias#"
   ]
  },
  {
   "cell_type": "markdown",
   "metadata": {},
   "source": [
    "# Importações "
   ]
  },
  {
   "cell_type": "code",
   "execution_count": 23,
   "metadata": {
    "collapsed": true
   },
   "outputs": [],
   "source": [
    "import pandas as pd\n",
    "import json\n",
    "import itertools\n",
    "import matplotlib.pyplot as plt\n",
    "from scipy.stats import norm, t\n",
    "from scipy import stats\n",
    "%matplotlib inline"
   ]
  },
  {
   "cell_type": "markdown",
   "metadata": {},
   "source": [
    "### Leitura do arquivo"
   ]
  },
  {
   "cell_type": "markdown",
   "metadata": {},
   "source": [
    "No Firebase os dados encontram-se ordenados como estruturas aninhadas. Vamos usar a função Export JSON no Firebase console."
   ]
  },
  {
   "cell_type": "markdown",
   "metadata": {},
   "source": [
    "<img src=firebase_object_tree.png width=200>"
   ]
  },
  {
   "cell_type": "markdown",
   "metadata": {},
   "source": [
    "\n",
    "A função *Exportar o JSON* fica à direita na visão de base de dados:\n",
    "<img src=export_json.png width=500>"
   ]
  },
  {
   "cell_type": "code",
   "execution_count": 2,
   "metadata": {
    "collapsed": true
   },
   "outputs": [],
   "source": [
    "arquivo = open(\"projeto3-cd-export.json\")\n",
    "linhas = arquivo.readlines()\n",
    "texto = \"\".join(linhas)\n",
    "dados_fire = json.loads(texto)"
   ]
  },
  {
   "cell_type": "markdown",
   "metadata": {},
   "source": [
    "### Análise do atributo logs"
   ]
  },
  {
   "cell_type": "markdown",
   "metadata": {},
   "source": [
    " Veja que log, que contém todos os dados, está pesadamente aninhado"
   ]
  },
  {
   "cell_type": "code",
   "execution_count": 27,
   "metadata": {
    "collapsed": true
   },
   "outputs": [],
   "source": [
    "for k,v in dados_fire[\"logs\"].items():\n",
    "    # print(k,v) # habilite para imprimir as chaves de mais alto nível\n",
    "    for chave, valor in v.items():\n",
    "        # print(chave, valor) # habilite para imprimir as chaves inferiores\n",
    "        pass # desabilite quando reabilitar a linha de cima\n",
    "\n"
   ]
  },
  {
   "cell_type": "markdown",
   "metadata": {},
   "source": [
    "### Convertendo para um dataframe"
   ]
  },
  {
   "cell_type": "markdown",
   "metadata": {},
   "source": [
    "O pandas entende listas de dicionários que têm as mesmas chaves. O Firebase nos dá dicionários de dicionários de dicionários. \n",
    "\n",
    "Vamos precisar converter. Basta inserir todos os itens que estavam na chave \"logs\" em uma lista"
   ]
  },
  {
   "cell_type": "code",
   "execution_count": 4,
   "metadata": {
    "collapsed": true
   },
   "outputs": [],
   "source": [
    "lista_dicionarios = []\n",
    "\n",
    "for k,v in dados_fire[\"logs\"].items():\n",
    "    lista_dicionarios.append(v)\n",
    "\n",
    "        \n"
   ]
  },
  {
   "cell_type": "markdown",
   "metadata": {},
   "source": [
    "A função `from_records` converte a lista de dicionários em um dataframe"
   ]
  },
  {
   "cell_type": "code",
   "execution_count": 5,
   "metadata": {
    "collapsed": true
   },
   "outputs": [],
   "source": [
    "dataframe = pd.DataFrame.from_records(lista_dicionarios)"
   ]
  },
  {
   "cell_type": "markdown",
   "metadata": {},
   "source": [
    "Desta forma temos o dataframe. Observe que os eventos são dos seguintes tipos:\n",
    "\n",
    "* *inicio* - quando um usuário inicia uma tarefa\n",
    "* final - quando o usuário termina uma tarefa\n",
    "\n",
    "Precisamos agrupar pelo `id` do usuário e depois subtrair o tempo inicial do final, para sabermos quanto tempo efetivamente levou aquela tarefa"
   ]
  },
  {
   "cell_type": "code",
   "execution_count": 6,
   "metadata": {
    "scrolled": true
   },
   "outputs": [
    {
     "data": {
      "text/html": [
       "<div>\n",
       "<style>\n",
       "    .dataframe thead tr:only-child th {\n",
       "        text-align: right;\n",
       "    }\n",
       "\n",
       "    .dataframe thead th {\n",
       "        text-align: left;\n",
       "    }\n",
       "\n",
       "    .dataframe tbody tr th {\n",
       "        vertical-align: top;\n",
       "    }\n",
       "</style>\n",
       "<table border=\"1\" class=\"dataframe\">\n",
       "  <thead>\n",
       "    <tr style=\"text-align: right;\">\n",
       "      <th></th>\n",
       "      <th>tempo</th>\n",
       "      <th>tipo</th>\n",
       "      <th>user_id</th>\n",
       "      <th>versao</th>\n",
       "    </tr>\n",
       "  </thead>\n",
       "  <tbody>\n",
       "    <tr>\n",
       "      <th>0</th>\n",
       "      <td>1510862507419</td>\n",
       "      <td>inicio</td>\n",
       "      <td>1372666489</td>\n",
       "      <td>B</td>\n",
       "    </tr>\n",
       "    <tr>\n",
       "      <th>1</th>\n",
       "      <td>1510862539067</td>\n",
       "      <td>final</td>\n",
       "      <td>1372666489</td>\n",
       "      <td>B</td>\n",
       "    </tr>\n",
       "    <tr>\n",
       "      <th>2</th>\n",
       "      <td>1510862625687</td>\n",
       "      <td>inicio</td>\n",
       "      <td>3200482478</td>\n",
       "      <td>B</td>\n",
       "    </tr>\n",
       "    <tr>\n",
       "      <th>3</th>\n",
       "      <td>1510862630346</td>\n",
       "      <td>final</td>\n",
       "      <td>3200482478</td>\n",
       "      <td>B</td>\n",
       "    </tr>\n",
       "    <tr>\n",
       "      <th>4</th>\n",
       "      <td>1510913068196</td>\n",
       "      <td>inicio</td>\n",
       "      <td>801361200</td>\n",
       "      <td>A</td>\n",
       "    </tr>\n",
       "    <tr>\n",
       "      <th>5</th>\n",
       "      <td>1510913249861</td>\n",
       "      <td>inicio</td>\n",
       "      <td>801361200</td>\n",
       "      <td>A</td>\n",
       "    </tr>\n",
       "    <tr>\n",
       "      <th>6</th>\n",
       "      <td>1510913284587</td>\n",
       "      <td>inicio</td>\n",
       "      <td>801361200</td>\n",
       "      <td>A</td>\n",
       "    </tr>\n",
       "    <tr>\n",
       "      <th>7</th>\n",
       "      <td>1510913311744</td>\n",
       "      <td>inicio</td>\n",
       "      <td>801361200</td>\n",
       "      <td>A</td>\n",
       "    </tr>\n",
       "    <tr>\n",
       "      <th>8</th>\n",
       "      <td>1510913331443</td>\n",
       "      <td>inicio</td>\n",
       "      <td>801361200</td>\n",
       "      <td>A</td>\n",
       "    </tr>\n",
       "    <tr>\n",
       "      <th>9</th>\n",
       "      <td>1510913334966</td>\n",
       "      <td>inicio</td>\n",
       "      <td>801361200</td>\n",
       "      <td>A</td>\n",
       "    </tr>\n",
       "    <tr>\n",
       "      <th>10</th>\n",
       "      <td>1510913337638</td>\n",
       "      <td>inicio</td>\n",
       "      <td>801361200</td>\n",
       "      <td>A</td>\n",
       "    </tr>\n",
       "    <tr>\n",
       "      <th>11</th>\n",
       "      <td>1510913511595</td>\n",
       "      <td>inicio</td>\n",
       "      <td>801361200</td>\n",
       "      <td>A</td>\n",
       "    </tr>\n",
       "    <tr>\n",
       "      <th>12</th>\n",
       "      <td>1510913518132</td>\n",
       "      <td>inicio</td>\n",
       "      <td>801361200</td>\n",
       "      <td>A</td>\n",
       "    </tr>\n",
       "    <tr>\n",
       "      <th>13</th>\n",
       "      <td>1510913524098</td>\n",
       "      <td>inicio</td>\n",
       "      <td>801361200</td>\n",
       "      <td>A</td>\n",
       "    </tr>\n",
       "    <tr>\n",
       "      <th>14</th>\n",
       "      <td>1510913551604</td>\n",
       "      <td>final</td>\n",
       "      <td>801361200</td>\n",
       "      <td>A</td>\n",
       "    </tr>\n",
       "    <tr>\n",
       "      <th>15</th>\n",
       "      <td>1510913551786</td>\n",
       "      <td>final</td>\n",
       "      <td>801361200</td>\n",
       "      <td>A</td>\n",
       "    </tr>\n",
       "    <tr>\n",
       "      <th>16</th>\n",
       "      <td>1510918617101</td>\n",
       "      <td>inicio</td>\n",
       "      <td>3549363524</td>\n",
       "      <td>B</td>\n",
       "    </tr>\n",
       "    <tr>\n",
       "      <th>17</th>\n",
       "      <td>1510918658479</td>\n",
       "      <td>inicio</td>\n",
       "      <td>3549363524</td>\n",
       "      <td>B</td>\n",
       "    </tr>\n",
       "    <tr>\n",
       "      <th>18</th>\n",
       "      <td>1510918727140</td>\n",
       "      <td>final</td>\n",
       "      <td>3549363524</td>\n",
       "      <td>B</td>\n",
       "    </tr>\n",
       "    <tr>\n",
       "      <th>19</th>\n",
       "      <td>1510918727396</td>\n",
       "      <td>final</td>\n",
       "      <td>3549363524</td>\n",
       "      <td>B</td>\n",
       "    </tr>\n",
       "    <tr>\n",
       "      <th>20</th>\n",
       "      <td>1510918747991</td>\n",
       "      <td>final</td>\n",
       "      <td>3549363524</td>\n",
       "      <td>B</td>\n",
       "    </tr>\n",
       "    <tr>\n",
       "      <th>21</th>\n",
       "      <td>1510918873601</td>\n",
       "      <td>inicio</td>\n",
       "      <td>3975975654</td>\n",
       "      <td>B</td>\n",
       "    </tr>\n",
       "    <tr>\n",
       "      <th>22</th>\n",
       "      <td>1510918885987</td>\n",
       "      <td>final</td>\n",
       "      <td>3975975654</td>\n",
       "      <td>B</td>\n",
       "    </tr>\n",
       "    <tr>\n",
       "      <th>23</th>\n",
       "      <td>1510919424392</td>\n",
       "      <td>final</td>\n",
       "      <td>3386075847</td>\n",
       "      <td>B</td>\n",
       "    </tr>\n",
       "    <tr>\n",
       "      <th>24</th>\n",
       "      <td>1510919424543</td>\n",
       "      <td>final</td>\n",
       "      <td>3386075847</td>\n",
       "      <td>B</td>\n",
       "    </tr>\n",
       "    <tr>\n",
       "      <th>25</th>\n",
       "      <td>1510919623235</td>\n",
       "      <td>final</td>\n",
       "      <td>422609445</td>\n",
       "      <td>B</td>\n",
       "    </tr>\n",
       "    <tr>\n",
       "      <th>26</th>\n",
       "      <td>1511003076443</td>\n",
       "      <td>inicio</td>\n",
       "      <td>2745020373</td>\n",
       "      <td>B</td>\n",
       "    </tr>\n",
       "    <tr>\n",
       "      <th>27</th>\n",
       "      <td>1511003091859</td>\n",
       "      <td>inicio</td>\n",
       "      <td>2745020373</td>\n",
       "      <td>B</td>\n",
       "    </tr>\n",
       "    <tr>\n",
       "      <th>28</th>\n",
       "      <td>1511004951427</td>\n",
       "      <td>inicio</td>\n",
       "      <td>3952831173</td>\n",
       "      <td>A</td>\n",
       "    </tr>\n",
       "    <tr>\n",
       "      <th>29</th>\n",
       "      <td>1511004976084</td>\n",
       "      <td>inicio</td>\n",
       "      <td>3952831173</td>\n",
       "      <td>A</td>\n",
       "    </tr>\n",
       "    <tr>\n",
       "      <th>...</th>\n",
       "      <td>...</td>\n",
       "      <td>...</td>\n",
       "      <td>...</td>\n",
       "      <td>...</td>\n",
       "    </tr>\n",
       "    <tr>\n",
       "      <th>104</th>\n",
       "      <td>1511279338196</td>\n",
       "      <td>final</td>\n",
       "      <td>2136193374</td>\n",
       "      <td>B</td>\n",
       "    </tr>\n",
       "    <tr>\n",
       "      <th>105</th>\n",
       "      <td>1511279342767</td>\n",
       "      <td>inicio</td>\n",
       "      <td>348280758</td>\n",
       "      <td>B</td>\n",
       "    </tr>\n",
       "    <tr>\n",
       "      <th>106</th>\n",
       "      <td>1511279346949</td>\n",
       "      <td>final</td>\n",
       "      <td>3927504085</td>\n",
       "      <td>A</td>\n",
       "    </tr>\n",
       "    <tr>\n",
       "      <th>107</th>\n",
       "      <td>1511279358725</td>\n",
       "      <td>inicio</td>\n",
       "      <td>2136193374</td>\n",
       "      <td>A</td>\n",
       "    </tr>\n",
       "    <tr>\n",
       "      <th>108</th>\n",
       "      <td>1511279362059</td>\n",
       "      <td>final</td>\n",
       "      <td>348280758</td>\n",
       "      <td>B</td>\n",
       "    </tr>\n",
       "    <tr>\n",
       "      <th>109</th>\n",
       "      <td>1511279363934</td>\n",
       "      <td>inicio</td>\n",
       "      <td>2136193374</td>\n",
       "      <td>A</td>\n",
       "    </tr>\n",
       "    <tr>\n",
       "      <th>110</th>\n",
       "      <td>1511279399596</td>\n",
       "      <td>inicio</td>\n",
       "      <td>2745020373</td>\n",
       "      <td>A</td>\n",
       "    </tr>\n",
       "    <tr>\n",
       "      <th>111</th>\n",
       "      <td>1511279456422</td>\n",
       "      <td>inicio</td>\n",
       "      <td>2745020373</td>\n",
       "      <td>A</td>\n",
       "    </tr>\n",
       "    <tr>\n",
       "      <th>112</th>\n",
       "      <td>1511279462781</td>\n",
       "      <td>inicio</td>\n",
       "      <td>2745020373</td>\n",
       "      <td>A</td>\n",
       "    </tr>\n",
       "    <tr>\n",
       "      <th>113</th>\n",
       "      <td>1511279467998</td>\n",
       "      <td>inicio</td>\n",
       "      <td>2745020373</td>\n",
       "      <td>A</td>\n",
       "    </tr>\n",
       "    <tr>\n",
       "      <th>114</th>\n",
       "      <td>1511279471377</td>\n",
       "      <td>inicio</td>\n",
       "      <td>2745020373</td>\n",
       "      <td>A</td>\n",
       "    </tr>\n",
       "    <tr>\n",
       "      <th>115</th>\n",
       "      <td>1511279474247</td>\n",
       "      <td>inicio</td>\n",
       "      <td>2745020373</td>\n",
       "      <td>A</td>\n",
       "    </tr>\n",
       "    <tr>\n",
       "      <th>116</th>\n",
       "      <td>1511279483970</td>\n",
       "      <td>inicio</td>\n",
       "      <td>2745020373</td>\n",
       "      <td>A</td>\n",
       "    </tr>\n",
       "    <tr>\n",
       "      <th>117</th>\n",
       "      <td>1511279490006</td>\n",
       "      <td>inicio</td>\n",
       "      <td>3200482478</td>\n",
       "      <td>A</td>\n",
       "    </tr>\n",
       "    <tr>\n",
       "      <th>118</th>\n",
       "      <td>1511279496904</td>\n",
       "      <td>inicio</td>\n",
       "      <td>3055446332</td>\n",
       "      <td>B</td>\n",
       "    </tr>\n",
       "    <tr>\n",
       "      <th>119</th>\n",
       "      <td>1511279510072</td>\n",
       "      <td>final</td>\n",
       "      <td>3055446332</td>\n",
       "      <td>B</td>\n",
       "    </tr>\n",
       "    <tr>\n",
       "      <th>120</th>\n",
       "      <td>1511279515861</td>\n",
       "      <td>final</td>\n",
       "      <td>3200482478</td>\n",
       "      <td>A</td>\n",
       "    </tr>\n",
       "    <tr>\n",
       "      <th>121</th>\n",
       "      <td>1511279601754</td>\n",
       "      <td>inicio</td>\n",
       "      <td>2042856696</td>\n",
       "      <td>A</td>\n",
       "    </tr>\n",
       "    <tr>\n",
       "      <th>122</th>\n",
       "      <td>1511279615137</td>\n",
       "      <td>inicio</td>\n",
       "      <td>2042856696</td>\n",
       "      <td>A</td>\n",
       "    </tr>\n",
       "    <tr>\n",
       "      <th>123</th>\n",
       "      <td>1511279630437</td>\n",
       "      <td>final</td>\n",
       "      <td>2042856696</td>\n",
       "      <td>A</td>\n",
       "    </tr>\n",
       "    <tr>\n",
       "      <th>124</th>\n",
       "      <td>1511279736266</td>\n",
       "      <td>inicio</td>\n",
       "      <td>2398399937</td>\n",
       "      <td>A</td>\n",
       "    </tr>\n",
       "    <tr>\n",
       "      <th>125</th>\n",
       "      <td>1511279772820</td>\n",
       "      <td>final</td>\n",
       "      <td>2398399937</td>\n",
       "      <td>A</td>\n",
       "    </tr>\n",
       "    <tr>\n",
       "      <th>126</th>\n",
       "      <td>1511279772823</td>\n",
       "      <td>final</td>\n",
       "      <td>2398399937</td>\n",
       "      <td>A</td>\n",
       "    </tr>\n",
       "    <tr>\n",
       "      <th>127</th>\n",
       "      <td>1511279928957</td>\n",
       "      <td>inicio</td>\n",
       "      <td>2074843654</td>\n",
       "      <td>A</td>\n",
       "    </tr>\n",
       "    <tr>\n",
       "      <th>128</th>\n",
       "      <td>1511279983792</td>\n",
       "      <td>final</td>\n",
       "      <td>2074843654</td>\n",
       "      <td>A</td>\n",
       "    </tr>\n",
       "    <tr>\n",
       "      <th>129</th>\n",
       "      <td>1511280334363</td>\n",
       "      <td>inicio</td>\n",
       "      <td>3112869006</td>\n",
       "      <td>A</td>\n",
       "    </tr>\n",
       "    <tr>\n",
       "      <th>130</th>\n",
       "      <td>1511280349757</td>\n",
       "      <td>inicio</td>\n",
       "      <td>3112869006</td>\n",
       "      <td>A</td>\n",
       "    </tr>\n",
       "    <tr>\n",
       "      <th>131</th>\n",
       "      <td>1511280351945</td>\n",
       "      <td>inicio</td>\n",
       "      <td>3112869006</td>\n",
       "      <td>A</td>\n",
       "    </tr>\n",
       "    <tr>\n",
       "      <th>132</th>\n",
       "      <td>1511280371396</td>\n",
       "      <td>final</td>\n",
       "      <td>3112869006</td>\n",
       "      <td>A</td>\n",
       "    </tr>\n",
       "    <tr>\n",
       "      <th>133</th>\n",
       "      <td>1511280371397</td>\n",
       "      <td>final</td>\n",
       "      <td>3112869006</td>\n",
       "      <td>A</td>\n",
       "    </tr>\n",
       "  </tbody>\n",
       "</table>\n",
       "<p>134 rows × 4 columns</p>\n",
       "</div>"
      ],
      "text/plain": [
       "             tempo    tipo     user_id versao\n",
       "0    1510862507419  inicio  1372666489      B\n",
       "1    1510862539067   final  1372666489      B\n",
       "2    1510862625687  inicio  3200482478      B\n",
       "3    1510862630346   final  3200482478      B\n",
       "4    1510913068196  inicio   801361200      A\n",
       "5    1510913249861  inicio   801361200      A\n",
       "6    1510913284587  inicio   801361200      A\n",
       "7    1510913311744  inicio   801361200      A\n",
       "8    1510913331443  inicio   801361200      A\n",
       "9    1510913334966  inicio   801361200      A\n",
       "10   1510913337638  inicio   801361200      A\n",
       "11   1510913511595  inicio   801361200      A\n",
       "12   1510913518132  inicio   801361200      A\n",
       "13   1510913524098  inicio   801361200      A\n",
       "14   1510913551604   final   801361200      A\n",
       "15   1510913551786   final   801361200      A\n",
       "16   1510918617101  inicio  3549363524      B\n",
       "17   1510918658479  inicio  3549363524      B\n",
       "18   1510918727140   final  3549363524      B\n",
       "19   1510918727396   final  3549363524      B\n",
       "20   1510918747991   final  3549363524      B\n",
       "21   1510918873601  inicio  3975975654      B\n",
       "22   1510918885987   final  3975975654      B\n",
       "23   1510919424392   final  3386075847      B\n",
       "24   1510919424543   final  3386075847      B\n",
       "25   1510919623235   final   422609445      B\n",
       "26   1511003076443  inicio  2745020373      B\n",
       "27   1511003091859  inicio  2745020373      B\n",
       "28   1511004951427  inicio  3952831173      A\n",
       "29   1511004976084  inicio  3952831173      A\n",
       "..             ...     ...         ...    ...\n",
       "104  1511279338196   final  2136193374      B\n",
       "105  1511279342767  inicio   348280758      B\n",
       "106  1511279346949   final  3927504085      A\n",
       "107  1511279358725  inicio  2136193374      A\n",
       "108  1511279362059   final   348280758      B\n",
       "109  1511279363934  inicio  2136193374      A\n",
       "110  1511279399596  inicio  2745020373      A\n",
       "111  1511279456422  inicio  2745020373      A\n",
       "112  1511279462781  inicio  2745020373      A\n",
       "113  1511279467998  inicio  2745020373      A\n",
       "114  1511279471377  inicio  2745020373      A\n",
       "115  1511279474247  inicio  2745020373      A\n",
       "116  1511279483970  inicio  2745020373      A\n",
       "117  1511279490006  inicio  3200482478      A\n",
       "118  1511279496904  inicio  3055446332      B\n",
       "119  1511279510072   final  3055446332      B\n",
       "120  1511279515861   final  3200482478      A\n",
       "121  1511279601754  inicio  2042856696      A\n",
       "122  1511279615137  inicio  2042856696      A\n",
       "123  1511279630437   final  2042856696      A\n",
       "124  1511279736266  inicio  2398399937      A\n",
       "125  1511279772820   final  2398399937      A\n",
       "126  1511279772823   final  2398399937      A\n",
       "127  1511279928957  inicio  2074843654      A\n",
       "128  1511279983792   final  2074843654      A\n",
       "129  1511280334363  inicio  3112869006      A\n",
       "130  1511280349757  inicio  3112869006      A\n",
       "131  1511280351945  inicio  3112869006      A\n",
       "132  1511280371396   final  3112869006      A\n",
       "133  1511280371397   final  3112869006      A\n",
       "\n",
       "[134 rows x 4 columns]"
      ]
     },
     "execution_count": 6,
     "metadata": {},
     "output_type": "execute_result"
    }
   ],
   "source": [
    "dataframe"
   ]
  },
  {
   "cell_type": "markdown",
   "metadata": {},
   "source": [
    "### Convertendo para um DataFrame de delta_t"
   ]
  },
  {
   "cell_type": "code",
   "execution_count": 7,
   "metadata": {
    "collapsed": true
   },
   "outputs": [],
   "source": [
    "agrupado = dataframe.groupby(by=[\"user_id\", \"versao\"])"
   ]
  },
  {
   "cell_type": "code",
   "execution_count": 8,
   "metadata": {
    "collapsed": true
   },
   "outputs": [],
   "source": [
    "users = set(dataframe.user_id) # We convert it to a set so that each user appear only once"
   ]
  },
  {
   "cell_type": "code",
   "execution_count": 9,
   "metadata": {
    "collapsed": true
   },
   "outputs": [],
   "source": [
    "users = list(users) "
   ]
  },
  {
   "cell_type": "code",
   "execution_count": 10,
   "metadata": {
    "collapsed": true
   },
   "outputs": [],
   "source": [
    "resultados = []\n",
    "\n",
    "for u in users:\n",
    "    for versao in [\"A\", \"B\"]:\n",
    "        if (u, versao) in agrupado.groups.keys(): # Check if a specific pair user/type of test happened\n",
    "            grupo1 =  agrupado.get_group((u, versao))\n",
    "            grupo1 = grupo1.sort_values(by=\"tempo\") # Para evitar que inícios sem fim gerem tempos negativos\n",
    "            \n",
    "            if len(grupo1[grupo1.tipo==\"final\"])>= 1 and len(grupo1[grupo1.tipo==\"inicio\"]) >= 1:\n",
    "                delta_t = grupo1[grupo1.tipo==\"final\"].iloc[-1].tempo - grupo1[grupo1.tipo==\"inicio\"].iloc[0].tempo\n",
    "                resultados.append({\"user_id\":u, \"delta_t\":delta_t, \"versao\":versao})"
   ]
  },
  {
   "cell_type": "code",
   "execution_count": 11,
   "metadata": {},
   "outputs": [
    {
     "data": {
      "text/html": [
       "<div>\n",
       "<style>\n",
       "    .dataframe thead tr:only-child th {\n",
       "        text-align: right;\n",
       "    }\n",
       "\n",
       "    .dataframe thead th {\n",
       "        text-align: left;\n",
       "    }\n",
       "\n",
       "    .dataframe tbody tr th {\n",
       "        vertical-align: top;\n",
       "    }\n",
       "</style>\n",
       "<table border=\"1\" class=\"dataframe\">\n",
       "  <thead>\n",
       "    <tr style=\"text-align: right;\">\n",
       "      <th></th>\n",
       "      <th>tempo</th>\n",
       "      <th>tipo</th>\n",
       "      <th>user_id</th>\n",
       "      <th>versao</th>\n",
       "    </tr>\n",
       "  </thead>\n",
       "  <tbody>\n",
       "    <tr>\n",
       "      <th>48</th>\n",
       "      <td>1511023052178</td>\n",
       "      <td>inicio</td>\n",
       "      <td>3157607674</td>\n",
       "      <td>B</td>\n",
       "    </tr>\n",
       "  </tbody>\n",
       "</table>\n",
       "</div>"
      ],
      "text/plain": [
       "            tempo    tipo     user_id versao\n",
       "48  1511023052178  inicio  3157607674      B"
      ]
     },
     "execution_count": 11,
     "metadata": {},
     "output_type": "execute_result"
    }
   ],
   "source": [
    "grupo1.sort_values(by=\"tempo\")"
   ]
  },
  {
   "cell_type": "code",
   "execution_count": 12,
   "metadata": {
    "collapsed": true
   },
   "outputs": [],
   "source": [
    "dataframe_resumo = pd.DataFrame.from_records(resultados)"
   ]
  },
  {
   "cell_type": "code",
   "execution_count": 13,
   "metadata": {
    "collapsed": true
   },
   "outputs": [],
   "source": [
    "dataframe_resumo.delta_t/=1000 # Convertendo milissegundos em segundos"
   ]
  },
  {
   "cell_type": "code",
   "execution_count": 14,
   "metadata": {
    "scrolled": true
   },
   "outputs": [
    {
     "data": {
      "text/html": [
       "<div>\n",
       "<style>\n",
       "    .dataframe thead tr:only-child th {\n",
       "        text-align: right;\n",
       "    }\n",
       "\n",
       "    .dataframe thead th {\n",
       "        text-align: left;\n",
       "    }\n",
       "\n",
       "    .dataframe tbody tr th {\n",
       "        vertical-align: top;\n",
       "    }\n",
       "</style>\n",
       "<table border=\"1\" class=\"dataframe\">\n",
       "  <thead>\n",
       "    <tr style=\"text-align: right;\">\n",
       "      <th></th>\n",
       "      <th>delta_t</th>\n",
       "      <th>user_id</th>\n",
       "      <th>versao</th>\n",
       "    </tr>\n",
       "  </thead>\n",
       "  <tbody>\n",
       "    <tr>\n",
       "      <th>0</th>\n",
       "      <td>32.749</td>\n",
       "      <td>56269058</td>\n",
       "      <td>A</td>\n",
       "    </tr>\n",
       "    <tr>\n",
       "      <th>1</th>\n",
       "      <td>54.835</td>\n",
       "      <td>2074843654</td>\n",
       "      <td>A</td>\n",
       "    </tr>\n",
       "    <tr>\n",
       "      <th>2</th>\n",
       "      <td>37.034</td>\n",
       "      <td>3112869006</td>\n",
       "      <td>A</td>\n",
       "    </tr>\n",
       "    <tr>\n",
       "      <th>3</th>\n",
       "      <td>40.245</td>\n",
       "      <td>2876237975</td>\n",
       "      <td>B</td>\n",
       "    </tr>\n",
       "    <tr>\n",
       "      <th>4</th>\n",
       "      <td>52.679</td>\n",
       "      <td>3331548450</td>\n",
       "      <td>B</td>\n",
       "    </tr>\n",
       "    <tr>\n",
       "      <th>5</th>\n",
       "      <td>42.971</td>\n",
       "      <td>3536437668</td>\n",
       "      <td>B</td>\n",
       "    </tr>\n",
       "    <tr>\n",
       "      <th>6</th>\n",
       "      <td>64.420</td>\n",
       "      <td>738456492</td>\n",
       "      <td>A</td>\n",
       "    </tr>\n",
       "    <tr>\n",
       "      <th>7</th>\n",
       "      <td>256218.282</td>\n",
       "      <td>738456492</td>\n",
       "      <td>B</td>\n",
       "    </tr>\n",
       "    <tr>\n",
       "      <th>8</th>\n",
       "      <td>375.598</td>\n",
       "      <td>3200482478</td>\n",
       "      <td>A</td>\n",
       "    </tr>\n",
       "    <tr>\n",
       "      <th>9</th>\n",
       "      <td>416683.177</td>\n",
       "      <td>3200482478</td>\n",
       "      <td>B</td>\n",
       "    </tr>\n",
       "    <tr>\n",
       "      <th>10</th>\n",
       "      <td>483.590</td>\n",
       "      <td>801361200</td>\n",
       "      <td>A</td>\n",
       "    </tr>\n",
       "    <tr>\n",
       "      <th>11</th>\n",
       "      <td>42.603</td>\n",
       "      <td>348280758</td>\n",
       "      <td>B</td>\n",
       "    </tr>\n",
       "    <tr>\n",
       "      <th>12</th>\n",
       "      <td>13.168</td>\n",
       "      <td>3055446332</td>\n",
       "      <td>B</td>\n",
       "    </tr>\n",
       "    <tr>\n",
       "      <th>13</th>\n",
       "      <td>254586.629</td>\n",
       "      <td>1813847360</td>\n",
       "      <td>B</td>\n",
       "    </tr>\n",
       "    <tr>\n",
       "      <th>14</th>\n",
       "      <td>36.557</td>\n",
       "      <td>2398399937</td>\n",
       "      <td>A</td>\n",
       "    </tr>\n",
       "    <tr>\n",
       "      <th>15</th>\n",
       "      <td>130.890</td>\n",
       "      <td>3549363524</td>\n",
       "      <td>B</td>\n",
       "    </tr>\n",
       "    <tr>\n",
       "      <th>16</th>\n",
       "      <td>272.349</td>\n",
       "      <td>3952831173</td>\n",
       "      <td>B</td>\n",
       "    </tr>\n",
       "    <tr>\n",
       "      <th>17</th>\n",
       "      <td>22.265</td>\n",
       "      <td>550450244</td>\n",
       "      <td>B</td>\n",
       "    </tr>\n",
       "    <tr>\n",
       "      <th>18</th>\n",
       "      <td>22.626</td>\n",
       "      <td>1648904781</td>\n",
       "      <td>A</td>\n",
       "    </tr>\n",
       "    <tr>\n",
       "      <th>19</th>\n",
       "      <td>26.730</td>\n",
       "      <td>3920088527</td>\n",
       "      <td>B</td>\n",
       "    </tr>\n",
       "    <tr>\n",
       "      <th>20</th>\n",
       "      <td>33.978</td>\n",
       "      <td>209927505</td>\n",
       "      <td>B</td>\n",
       "    </tr>\n",
       "    <tr>\n",
       "      <th>21</th>\n",
       "      <td>12.015</td>\n",
       "      <td>3927504085</td>\n",
       "      <td>A</td>\n",
       "    </tr>\n",
       "    <tr>\n",
       "      <th>22</th>\n",
       "      <td>41.620</td>\n",
       "      <td>3155695962</td>\n",
       "      <td>A</td>\n",
       "    </tr>\n",
       "    <tr>\n",
       "      <th>23</th>\n",
       "      <td>41.949</td>\n",
       "      <td>1855958362</td>\n",
       "      <td>B</td>\n",
       "    </tr>\n",
       "    <tr>\n",
       "      <th>24</th>\n",
       "      <td>17.849</td>\n",
       "      <td>2136193374</td>\n",
       "      <td>B</td>\n",
       "    </tr>\n",
       "    <tr>\n",
       "      <th>25</th>\n",
       "      <td>12.386</td>\n",
       "      <td>3975975654</td>\n",
       "      <td>B</td>\n",
       "    </tr>\n",
       "    <tr>\n",
       "      <th>26</th>\n",
       "      <td>24.126</td>\n",
       "      <td>3768845809</td>\n",
       "      <td>A</td>\n",
       "    </tr>\n",
       "    <tr>\n",
       "      <th>27</th>\n",
       "      <td>28.683</td>\n",
       "      <td>2042856696</td>\n",
       "      <td>A</td>\n",
       "    </tr>\n",
       "    <tr>\n",
       "      <th>28</th>\n",
       "      <td>31.648</td>\n",
       "      <td>1372666489</td>\n",
       "      <td>B</td>\n",
       "    </tr>\n",
       "  </tbody>\n",
       "</table>\n",
       "</div>"
      ],
      "text/plain": [
       "       delta_t     user_id versao\n",
       "0       32.749    56269058      A\n",
       "1       54.835  2074843654      A\n",
       "2       37.034  3112869006      A\n",
       "3       40.245  2876237975      B\n",
       "4       52.679  3331548450      B\n",
       "5       42.971  3536437668      B\n",
       "6       64.420   738456492      A\n",
       "7   256218.282   738456492      B\n",
       "8      375.598  3200482478      A\n",
       "9   416683.177  3200482478      B\n",
       "10     483.590   801361200      A\n",
       "11      42.603   348280758      B\n",
       "12      13.168  3055446332      B\n",
       "13  254586.629  1813847360      B\n",
       "14      36.557  2398399937      A\n",
       "15     130.890  3549363524      B\n",
       "16     272.349  3952831173      B\n",
       "17      22.265   550450244      B\n",
       "18      22.626  1648904781      A\n",
       "19      26.730  3920088527      B\n",
       "20      33.978   209927505      B\n",
       "21      12.015  3927504085      A\n",
       "22      41.620  3155695962      A\n",
       "23      41.949  1855958362      B\n",
       "24      17.849  2136193374      B\n",
       "25      12.386  3975975654      B\n",
       "26      24.126  3768845809      A\n",
       "27      28.683  2042856696      A\n",
       "28      31.648  1372666489      B"
      ]
     },
     "execution_count": 14,
     "metadata": {},
     "output_type": "execute_result"
    }
   ],
   "source": [
    "dataframe_resumo"
   ]
  },
  {
   "cell_type": "code",
   "execution_count": 32,
   "metadata": {},
   "outputs": [],
   "source": [
    "dataframe_resumo = dataframe_resumo.loc[dataframe_resumo.delta_t < 490]\n",
    "Atempo = dataframe_resumo.loc[dataframe_resumo.versao=='A',['delta_t']] # novo DataFrame em função de delta_t\n",
    "Btempo = dataframe_resumo.loc[dataframe_resumo.versao=='B',['delta_t']] # novo DataFrame em função de delta_t"
   ]
  },
  {
   "cell_type": "code",
   "execution_count": 33,
   "metadata": {
    "scrolled": false
   },
   "outputs": [
    {
     "data": {
      "text/html": [
       "<div>\n",
       "<style>\n",
       "    .dataframe thead tr:only-child th {\n",
       "        text-align: right;\n",
       "    }\n",
       "\n",
       "    .dataframe thead th {\n",
       "        text-align: left;\n",
       "    }\n",
       "\n",
       "    .dataframe tbody tr th {\n",
       "        vertical-align: top;\n",
       "    }\n",
       "</style>\n",
       "<table border=\"1\" class=\"dataframe\">\n",
       "  <thead>\n",
       "    <tr style=\"text-align: right;\">\n",
       "      <th></th>\n",
       "      <th>delta_t</th>\n",
       "    </tr>\n",
       "  </thead>\n",
       "  <tbody>\n",
       "    <tr>\n",
       "      <th>0</th>\n",
       "      <td>32.749</td>\n",
       "    </tr>\n",
       "    <tr>\n",
       "      <th>1</th>\n",
       "      <td>54.835</td>\n",
       "    </tr>\n",
       "    <tr>\n",
       "      <th>2</th>\n",
       "      <td>37.034</td>\n",
       "    </tr>\n",
       "    <tr>\n",
       "      <th>6</th>\n",
       "      <td>64.420</td>\n",
       "    </tr>\n",
       "    <tr>\n",
       "      <th>8</th>\n",
       "      <td>375.598</td>\n",
       "    </tr>\n",
       "    <tr>\n",
       "      <th>10</th>\n",
       "      <td>483.590</td>\n",
       "    </tr>\n",
       "    <tr>\n",
       "      <th>14</th>\n",
       "      <td>36.557</td>\n",
       "    </tr>\n",
       "    <tr>\n",
       "      <th>18</th>\n",
       "      <td>22.626</td>\n",
       "    </tr>\n",
       "    <tr>\n",
       "      <th>21</th>\n",
       "      <td>12.015</td>\n",
       "    </tr>\n",
       "    <tr>\n",
       "      <th>22</th>\n",
       "      <td>41.620</td>\n",
       "    </tr>\n",
       "    <tr>\n",
       "      <th>26</th>\n",
       "      <td>24.126</td>\n",
       "    </tr>\n",
       "    <tr>\n",
       "      <th>27</th>\n",
       "      <td>28.683</td>\n",
       "    </tr>\n",
       "  </tbody>\n",
       "</table>\n",
       "</div>"
      ],
      "text/plain": [
       "    delta_t\n",
       "0    32.749\n",
       "1    54.835\n",
       "2    37.034\n",
       "6    64.420\n",
       "8   375.598\n",
       "10  483.590\n",
       "14   36.557\n",
       "18   22.626\n",
       "21   12.015\n",
       "22   41.620\n",
       "26   24.126\n",
       "27   28.683"
      ]
     },
     "execution_count": 33,
     "metadata": {},
     "output_type": "execute_result"
    }
   ],
   "source": [
    "Atempo"
   ]
  },
  {
   "cell_type": "code",
   "execution_count": 34,
   "metadata": {},
   "outputs": [
    {
     "data": {
      "text/html": [
       "<div>\n",
       "<style>\n",
       "    .dataframe thead tr:only-child th {\n",
       "        text-align: right;\n",
       "    }\n",
       "\n",
       "    .dataframe thead th {\n",
       "        text-align: left;\n",
       "    }\n",
       "\n",
       "    .dataframe tbody tr th {\n",
       "        vertical-align: top;\n",
       "    }\n",
       "</style>\n",
       "<table border=\"1\" class=\"dataframe\">\n",
       "  <thead>\n",
       "    <tr style=\"text-align: right;\">\n",
       "      <th></th>\n",
       "      <th>delta_t</th>\n",
       "    </tr>\n",
       "  </thead>\n",
       "  <tbody>\n",
       "    <tr>\n",
       "      <th>3</th>\n",
       "      <td>40.245</td>\n",
       "    </tr>\n",
       "    <tr>\n",
       "      <th>4</th>\n",
       "      <td>52.679</td>\n",
       "    </tr>\n",
       "    <tr>\n",
       "      <th>5</th>\n",
       "      <td>42.971</td>\n",
       "    </tr>\n",
       "    <tr>\n",
       "      <th>11</th>\n",
       "      <td>42.603</td>\n",
       "    </tr>\n",
       "    <tr>\n",
       "      <th>12</th>\n",
       "      <td>13.168</td>\n",
       "    </tr>\n",
       "    <tr>\n",
       "      <th>15</th>\n",
       "      <td>130.890</td>\n",
       "    </tr>\n",
       "    <tr>\n",
       "      <th>16</th>\n",
       "      <td>272.349</td>\n",
       "    </tr>\n",
       "    <tr>\n",
       "      <th>17</th>\n",
       "      <td>22.265</td>\n",
       "    </tr>\n",
       "    <tr>\n",
       "      <th>19</th>\n",
       "      <td>26.730</td>\n",
       "    </tr>\n",
       "    <tr>\n",
       "      <th>20</th>\n",
       "      <td>33.978</td>\n",
       "    </tr>\n",
       "    <tr>\n",
       "      <th>23</th>\n",
       "      <td>41.949</td>\n",
       "    </tr>\n",
       "    <tr>\n",
       "      <th>24</th>\n",
       "      <td>17.849</td>\n",
       "    </tr>\n",
       "    <tr>\n",
       "      <th>25</th>\n",
       "      <td>12.386</td>\n",
       "    </tr>\n",
       "    <tr>\n",
       "      <th>28</th>\n",
       "      <td>31.648</td>\n",
       "    </tr>\n",
       "  </tbody>\n",
       "</table>\n",
       "</div>"
      ],
      "text/plain": [
       "    delta_t\n",
       "3    40.245\n",
       "4    52.679\n",
       "5    42.971\n",
       "11   42.603\n",
       "12   13.168\n",
       "15  130.890\n",
       "16  272.349\n",
       "17   22.265\n",
       "19   26.730\n",
       "20   33.978\n",
       "23   41.949\n",
       "24   17.849\n",
       "25   12.386\n",
       "28   31.648"
      ]
     },
     "execution_count": 34,
     "metadata": {},
     "output_type": "execute_result"
    }
   ],
   "source": [
    "Btempo"
   ]
  },
  {
   "cell_type": "markdown",
   "metadata": {},
   "source": [
    "# Comparação dos histogramas"
   ]
  },
  {
   "cell_type": "code",
   "execution_count": 35,
   "metadata": {},
   "outputs": [
    {
     "data": {
      "text/plain": [
       "(array([ 9.,  1.,  0.,  0.,  0.,  0.,  0.,  1.,  0.,  1.]),\n",
       " array([  12.015 ,   59.1725,  106.33  ,  153.4875,  200.645 ,  247.8025,\n",
       "         294.96  ,  342.1175,  389.275 ,  436.4325,  483.59  ]),\n",
       " <a list of 10 Patch objects>)"
      ]
     },
     "execution_count": 35,
     "metadata": {},
     "output_type": "execute_result"
    },
    {
     "data": {
      "image/png": "[encoded data removed]",
      "text/plain": [
       "<matplotlib.figure.Figure at 0x1d56f619630>"
      ]
     },
     "metadata": {},
     "output_type": "display_data"
    }
   ],
   "source": [
    "plt.hist(Atempo.delta_t, bins=10, color=\"blue\")"
   ]
  },
  {
   "cell_type": "code",
   "execution_count": 36,
   "metadata": {},
   "outputs": [
    {
     "data": {
      "text/plain": [
       "(array([ 7.,  5.,  0.,  0.,  1.,  0.,  0.,  0.,  0.,  1.]),\n",
       " array([  12.386 ,   38.3823,   64.3786,   90.3749,  116.3712,  142.3675,\n",
       "         168.3638,  194.3601,  220.3564,  246.3527,  272.349 ]),\n",
       " <a list of 10 Patch objects>)"
      ]
     },
     "execution_count": 36,
     "metadata": {},
     "output_type": "execute_result"
    },
    {
     "data": {
      "image/png": "[encoded data removed]",
      "text/plain": [
       "<matplotlib.figure.Figure at 0x1d56f6d2978>"
      ]
     },
     "metadata": {},
     "output_type": "display_data"
    }
   ],
   "source": [
    "plt.hist(Btempo.delta_t, bins=10, alpha=0.5, color=\"red\")"
   ]
  },
  {
   "cell_type": "markdown",
   "metadata": {},
   "source": [
    "### Para avaliarmos qual portifólio é mais eficiente, realizaremos uma comparação por proporção de amostras independentes com variâncias desconhecidas e independentes.  Para isso temos duas hipóteses: H0 (μA - μB = 0) e H1 (μA - μB !=0). Com elas realizaremos uma cdf da distribuição t_student a fim de descobrimos se rejeitamos ou não a hipótese nula."
   ]
  },
  {
   "cell_type": "markdown",
   "metadata": {},
   "source": [
    "# Destribuição t_student"
   ]
  },
  {
   "cell_type": "code",
   "execution_count": 37,
   "metadata": {
    "collapsed": true
   },
   "outputs": [],
   "source": [
    "nA = len(Atempo.delta_t)\n",
    "nB = len(Btempo.delta_t)"
   ]
  },
  {
   "cell_type": "code",
   "execution_count": 41,
   "metadata": {
    "collapsed": true
   },
   "outputs": [],
   "source": [
    "μA = Atempo.mean()\n",
    "μB = Btempo.mean()\n",
    "D = μA - μB \n",
    "SA = (((Atempo).var())/(nA - 1))**(0.5)\n",
    "SB = (((Btempo).var())/(nB-1))**(0.5)\n",
    "T = D/((((SA**2)/nA + (SB)**2)/nB)**(0.5))\n",
    "v = (((SA**2)/nA + (SB**2)/(nB))**(2))/(((SA/nA)**2)/(nA-1) + ((SB/nB)**2)/(nB-1))"
   ]
  },
  {
   "cell_type": "code",
   "execution_count": 45,
   "metadata": {},
   "outputs": [
    {
     "data": {
      "text/plain": [
       "array([  4.40314206e-13])"
      ]
     },
     "execution_count": 45,
     "metadata": {},
     "output_type": "execute_result"
    }
   ],
   "source": [
    "Value_P = t.cdf(-T,loc = 0, scale = 1, df = v )*2\n",
    "Value_P"
   ]
  },
  {
   "cell_type": "markdown",
   "metadata": {},
   "source": [
    "** R. Com esse resultado concluímos que como Value_P < alpha, esse sendo 5%, observamos que devemos rejeitar a hipótese nula H0:μA - μB = 0, pois a chance desse experimento acontecer e as médias serem iguais é praticamente nula. **"
   ]
  },
  {
   "cell_type": "markdown",
   "metadata": {},
   "source": [
    "# Conclusão"
   ]
  },
  {
   "cell_type": "code",
   "execution_count": 46,
   "metadata": {},
   "outputs": [
    {
     "data": {
      "text/plain": [
       "delta_t    45.317988\n",
       "dtype: float64"
      ]
     },
     "execution_count": 46,
     "metadata": {},
     "output_type": "execute_result"
    }
   ],
   "source": [
    "#H1 μA - μB != 0\n",
    "Dh1 = μA - μB\n",
    "Dh1"
   ]
  },
  {
   "cell_type": "markdown",
   "metadata": {},
   "source": [
    "** Com esse resultado concluímos que como Dh1 > 0 e μA > μB, as pessoas tiveram mais dificuldade em achar o projeto em questão no portifólio A do que no B. Sendo assim conclui-se que o portifólio B é mais eficiente. **"
   ]
  },
  {
   "cell_type": "code",
   "execution_count": null,
   "metadata": {
    "collapsed": true
   },
   "outputs": [],
   "source": []
  }
 ],
 "metadata": {
  "kernelspec": {
   "display_name": "Python 3",
   "language": "python",
   "name": "python3"
  },
  "language_info": {
   "codemirror_mode": {
    "name": "ipython",
    "version": 3
   },
   "file_extension": ".py",
   "mimetype": "text/x-python",
   "name": "python",
   "nbconvert_exporter": "python",
   "pygments_lexer": "ipython3",
   "version": "3.6.1"
  }
 },
 "nbformat": 4,
 "nbformat_minor": 1
}
